{
 "cells": [
  {
   "cell_type": "markdown",
   "metadata": {
    "application/vnd.databricks.v1+cell": {
     "cellMetadata": {
      "byteLimit": 2048000,
      "rowLimit": 10000
     },
     "inputWidgets": {},
     "nuid": "cc7ef65b-969e-4451-969a-2a437b8aabfe",
     "showTitle": false,
     "title": ""
    }
   },
   "source": [
    "# **Analiza Jakości Wina na Podstawie Danych Fizykochemicznych**\n",
    "\n",
    "W moim projekcie \"Analiza Jakości Wina na Podstawie Danych Fizykochemicznych\" skupiam się na odkrywaniu, jak składniki chemiczne wpływają na to, jak postrzegamy jakość wina. Chcę sprawdzić, na ile moje modele są skuteczne w przewidywaniu jakości wina i dowiedzieć się, które składniki mają na nią największy wpływ.\n",
    "\n",
    "Do analizy użyję kilku metod statystycznych, takich jak model liniowy, Lasso, drzewo decyzyjne i las losowy. Każda z nich pomoże mi lepiej zrozumieć dane i poprawić moje predykcje.\n",
    "\n",
    "Projekt zaczynam od wczytania i pierwszego rzutu oka na dane. Moim celem jest nie tylko ocena jakości wina, ale głównie zrozumienie, jak poszczególne składniki chemiczne wpływają na tę ocenę. Dzięki temu będę mógł lepiej zrozumieć, co sprawia, że wino jest uznawane za dobre.\n",
    "\n",
    "#### Cel Analizy:\n",
    "\n",
    "*  **Ocena jakości predykcji zbudowanych modeli**: Skupię się na oszacowaniu błędu testowego predykcji, używając zbioru walidacyjnego lub walidacji krzyżowej. To pozwoli mi ocenić, na ile dokładne i rzetelne są moje modele w przewidywaniu jakości wina.\n",
    "    \n",
    "*   **Ocena istotności każdego z predyktorów**: Zbadam, które zmienne, takie jak kwasowość, zawartość cukru czy alkoholu, mają wpływ na jakość wina. To pozwoli mi zidentyfikować najważniejsze czynniki.\n",
    "    \n",
    "*   **Ranking ważności predyktorów**: W modelach, które na to pozwalają, ustalę ranking ważności predyktorów. Dzięki temu zobaczę, które zmienne są najbardziej wpływowe.\n",
    "    \n",
    "*   **Ocena charakteru i wielkości wpływu istotnych predyktorów**: Sprawdzę, jak zmiany w poszczególnych predyktorach wpływają na przewidywaną jakość wina, zwracając uwagę na to, czy wpływ jest pozytywny czy negatywny, i jak duża jest ta zmiana.\n",
    "    \n",
    "\n",
    "#### Modele do Analizy:\n",
    "\n",
    "W projekcie wykorzystam następujące modele:\n",
    "\n",
    "*   **Model liniowy**: Prosty model do analizy zależności między predyktorami a jakością wina.\n",
    "    \n",
    "*   **Lasso**: Metoda regresji, która pomaga wybrać zmienne i kontrolować złożoność modelu, co może poprawić jego interpretowalność i skuteczność.\n",
    "    \n",
    "*   **Drzewo decyzyjne**: Model, który pozwala zrozumieć, jak decyzje są podejmowane w danych i który jest przydatny do wskazania kluczowych zmiennych wpływających na jakość wina.\n",
    "    \n",
    "*   **Las losowy**: Bardziej zaawansowany model zespołowy, który może zwiększyć dokładność predykcji i lepiej radzić sobie z problemem nadmiernego dopasowania.\n",
    "    \n",
    "\n",
    "Korzystanie z tych różnorodnych metod pozwoli mi dogłębnie przeanalizować dane i wybrać najlepszy model do przewidywania jakości wina.\n",
    "\n",
    "Rozpoczynam mój projekt analizy jakości wina od wczytania i wstępnego przeglądu danych:"
   ]
  },
  {
   "cell_type": "code",
   "execution_count": 0,
   "metadata": {
    "application/vnd.databricks.v1+cell": {
     "cellMetadata": {
      "byteLimit": 2048000,
      "rowLimit": 10000
     },
     "inputWidgets": {},
     "nuid": "390fc857-a0bd-4bc0-a05c-8b560abbb147",
     "showTitle": false,
     "title": ""
    }
   },
   "outputs": [
    {
     "output_type": "display_data",
     "data": {
      "text/html": [
       "<div>\n",
       "<style scoped>\n",
       "    .dataframe tbody tr th:only-of-type {\n",
       "        vertical-align: middle;\n",
       "    }\n",
       "\n",
       "    .dataframe tbody tr th {\n",
       "        vertical-align: top;\n",
       "    }\n",
       "\n",
       "    .dataframe thead th {\n",
       "        text-align: right;\n",
       "    }\n",
       "</style>\n",
       "<table border=\"1\" class=\"dataframe\">\n",
       "  <thead>\n",
       "    <tr style=\"text-align: right;\">\n",
       "      <th></th>\n",
       "      <th>fixed acidity</th>\n",
       "      <th>volatile acidity</th>\n",
       "      <th>citric acid</th>\n",
       "      <th>residual sugar</th>\n",
       "      <th>chlorides</th>\n",
       "      <th>free sulfur dioxide</th>\n",
       "      <th>total sulfur dioxide</th>\n",
       "      <th>density</th>\n",
       "      <th>pH</th>\n",
       "      <th>sulphates</th>\n",
       "      <th>alcohol</th>\n",
       "      <th>quality</th>\n",
       "    </tr>\n",
       "  </thead>\n",
       "  <tbody>\n",
       "    <tr>\n",
       "      <th>0</th>\n",
       "      <td>7.4</td>\n",
       "      <td>0.70</td>\n",
       "      <td>0.00</td>\n",
       "      <td>1.9</td>\n",
       "      <td>0.076</td>\n",
       "      <td>11.0</td>\n",
       "      <td>34.0</td>\n",
       "      <td>0.9978</td>\n",
       "      <td>3.51</td>\n",
       "      <td>0.56</td>\n",
       "      <td>9.4</td>\n",
       "      <td>5</td>\n",
       "    </tr>\n",
       "    <tr>\n",
       "      <th>1</th>\n",
       "      <td>7.8</td>\n",
       "      <td>0.88</td>\n",
       "      <td>0.00</td>\n",
       "      <td>2.6</td>\n",
       "      <td>0.098</td>\n",
       "      <td>25.0</td>\n",
       "      <td>67.0</td>\n",
       "      <td>0.9968</td>\n",
       "      <td>3.20</td>\n",
       "      <td>0.68</td>\n",
       "      <td>9.8</td>\n",
       "      <td>5</td>\n",
       "    </tr>\n",
       "    <tr>\n",
       "      <th>2</th>\n",
       "      <td>7.8</td>\n",
       "      <td>0.76</td>\n",
       "      <td>0.04</td>\n",
       "      <td>2.3</td>\n",
       "      <td>0.092</td>\n",
       "      <td>15.0</td>\n",
       "      <td>54.0</td>\n",
       "      <td>0.9970</td>\n",
       "      <td>3.26</td>\n",
       "      <td>0.65</td>\n",
       "      <td>9.8</td>\n",
       "      <td>5</td>\n",
       "    </tr>\n",
       "    <tr>\n",
       "      <th>3</th>\n",
       "      <td>11.2</td>\n",
       "      <td>0.28</td>\n",
       "      <td>0.56</td>\n",
       "      <td>1.9</td>\n",
       "      <td>0.075</td>\n",
       "      <td>17.0</td>\n",
       "      <td>60.0</td>\n",
       "      <td>0.9980</td>\n",
       "      <td>3.16</td>\n",
       "      <td>0.58</td>\n",
       "      <td>9.8</td>\n",
       "      <td>6</td>\n",
       "    </tr>\n",
       "    <tr>\n",
       "      <th>4</th>\n",
       "      <td>7.4</td>\n",
       "      <td>0.70</td>\n",
       "      <td>0.00</td>\n",
       "      <td>1.9</td>\n",
       "      <td>0.076</td>\n",
       "      <td>11.0</td>\n",
       "      <td>34.0</td>\n",
       "      <td>0.9978</td>\n",
       "      <td>3.51</td>\n",
       "      <td>0.56</td>\n",
       "      <td>9.4</td>\n",
       "      <td>5</td>\n",
       "    </tr>\n",
       "  </tbody>\n",
       "</table>\n",
       "</div>"
      ]
     },
     "metadata": {
      "application/vnd.databricks.v1+output": {
       "addedWidgets": {},
       "arguments": {},
       "data": "<div>\n<style scoped>\n    .dataframe tbody tr th:only-of-type {\n        vertical-align: middle;\n    }\n\n    .dataframe tbody tr th {\n        vertical-align: top;\n    }\n\n    .dataframe thead th {\n        text-align: right;\n    }\n</style>\n<table border=\"1\" class=\"dataframe\">\n  <thead>\n    <tr style=\"text-align: right;\">\n      <th></th>\n      <th>fixed acidity</th>\n      <th>volatile acidity</th>\n      <th>citric acid</th>\n      <th>residual sugar</th>\n      <th>chlorides</th>\n      <th>free sulfur dioxide</th>\n      <th>total sulfur dioxide</th>\n      <th>density</th>\n      <th>pH</th>\n      <th>sulphates</th>\n      <th>alcohol</th>\n      <th>quality</th>\n    </tr>\n  </thead>\n  <tbody>\n    <tr>\n      <th>0</th>\n      <td>7.4</td>\n      <td>0.70</td>\n      <td>0.00</td>\n      <td>1.9</td>\n      <td>0.076</td>\n      <td>11.0</td>\n      <td>34.0</td>\n      <td>0.9978</td>\n      <td>3.51</td>\n      <td>0.56</td>\n      <td>9.4</td>\n      <td>5</td>\n    </tr>\n    <tr>\n      <th>1</th>\n      <td>7.8</td>\n      <td>0.88</td>\n      <td>0.00</td>\n      <td>2.6</td>\n      <td>0.098</td>\n      <td>25.0</td>\n      <td>67.0</td>\n      <td>0.9968</td>\n      <td>3.20</td>\n      <td>0.68</td>\n      <td>9.8</td>\n      <td>5</td>\n    </tr>\n    <tr>\n      <th>2</th>\n      <td>7.8</td>\n      <td>0.76</td>\n      <td>0.04</td>\n      <td>2.3</td>\n      <td>0.092</td>\n      <td>15.0</td>\n      <td>54.0</td>\n      <td>0.9970</td>\n      <td>3.26</td>\n      <td>0.65</td>\n      <td>9.8</td>\n      <td>5</td>\n    </tr>\n    <tr>\n      <th>3</th>\n      <td>11.2</td>\n      <td>0.28</td>\n      <td>0.56</td>\n      <td>1.9</td>\n      <td>0.075</td>\n      <td>17.0</td>\n      <td>60.0</td>\n      <td>0.9980</td>\n      <td>3.16</td>\n      <td>0.58</td>\n      <td>9.8</td>\n      <td>6</td>\n    </tr>\n    <tr>\n      <th>4</th>\n      <td>7.4</td>\n      <td>0.70</td>\n      <td>0.00</td>\n      <td>1.9</td>\n      <td>0.076</td>\n      <td>11.0</td>\n      <td>34.0</td>\n      <td>0.9978</td>\n      <td>3.51</td>\n      <td>0.56</td>\n      <td>9.4</td>\n      <td>5</td>\n    </tr>\n  </tbody>\n</table>\n</div>",
       "datasetInfos": [],
       "metadata": {},
       "removedWidgets": [],
       "textData": null,
       "type": "htmlSandbox"
      }
     },
     "output_type": "display_data"
    }
   ],
   "source": [
    "import pandas as pd\n",
    "import numpy as np\n",
    "\n",
    "url = 'https://raw.githubusercontent.com/aniruddhachoudhury/Red-Wine-Quality/master/winequality-red.csv'\n",
    "data = pd.read_csv(url)\n",
    "data.head()"
   ]
  },
  {
   "cell_type": "markdown",
   "metadata": {
    "application/vnd.databricks.v1+cell": {
     "cellMetadata": {
      "byteLimit": 2048000,
      "rowLimit": 10000
     },
     "inputWidgets": {},
     "nuid": "ef20e851-b18f-4938-848f-e39e7512107c",
     "showTitle": false,
     "title": ""
    }
   },
   "source": [
    "W moim projekcie wykorzystuję dataset, który zawiera informacje o różnych aspektach czerwonego wina. Dane te obejmują szereg parametrów fizykochemicznych oraz ocenę sensoryczną jakości wina. Analizując te informacje, chcę zrozumieć, które cechy chemiczne mają największy wpływ na to, jak postrzegana jest jakość wina.\n",
    "\n",
    "### Parametry fizykochemiczne:\n",
    "\n",
    "1.  **Kwasowość stała (Fixed Acidity):** Ilość kwasów, które nie ulatniają się łatwo.\n",
    "2.  **Kwasowość lotna (Volatile Acidity):** Ilość kwasów ulatniających się z wina.\n",
    "3.  **Kwas cytrynowy (Citric Acid):** Zawartość kwasu cytrynowego w winie.\n",
    "4.  **Cukier resztkowy (Residual Sugar):** Ilość cukru pozostającego po fermentacji.\n",
    "5.  **Chlorki (Chlorides):** Ilość chlorków w winie.\n",
    "6.  **Wolny dwutlenek siarki (Free Sulfur Dioxide):** Ilość wolnego SO2, który działa jako konserwant.\n",
    "7.  **Całkowity dwutlenek siarki (Total Sulfur Dioxide):** Całkowita ilość SO2 w winie.\n",
    "8.  **Gęstość (Density):** Masa wina w odniesieniu do jego objętości.\n",
    "9.  **pH:** Pokazuje, czy wino jest bardziej kwaśne czy zasadowe.\n",
    "10. **Siarczany (Sulphates):** Ilość dodawanych siarczanów, które wpływają na fermentację.\n",
    "11. **Alkohol (Alcohol):** Procentowa zawartość alkoholu w winie.\n",
    "\n",
    "### Ocena sensoryczna:\n",
    "\n",
    "*   **Jakość (Quality):** Ocena jakości wina na skali od 0 do 10.\n",
    "\n",
    "### Analiza danych:\n",
    "\n",
    "Chcę przeanalizować te dane, aby dowiedzieć się, jak poszczególne parametry chemiczne wpływają na ogólną jakość wina. Wykorzystam do tego podstawowe statystyki opisowe za pomocą metody `describe()` z biblioteki pandas, co pozwoli mi zrozumieć główne trendy i charakterystyki danych.\n"
   ]
  },
  {
   "cell_type": "code",
   "execution_count": 0,
   "metadata": {
    "application/vnd.databricks.v1+cell": {
     "cellMetadata": {
      "byteLimit": 2048000,
      "rowLimit": 10000
     },
     "inputWidgets": {},
     "nuid": "edbfe985-3d4e-4e08-9bb9-564447d60352",
     "showTitle": false,
     "title": ""
    }
   },
   "outputs": [
    {
     "output_type": "display_data",
     "data": {
      "text/html": [
       "<div>\n",
       "<style scoped>\n",
       "    .dataframe tbody tr th:only-of-type {\n",
       "        vertical-align: middle;\n",
       "    }\n",
       "\n",
       "    .dataframe tbody tr th {\n",
       "        vertical-align: top;\n",
       "    }\n",
       "\n",
       "    .dataframe thead th {\n",
       "        text-align: right;\n",
       "    }\n",
       "</style>\n",
       "<table border=\"1\" class=\"dataframe\">\n",
       "  <thead>\n",
       "    <tr style=\"text-align: right;\">\n",
       "      <th></th>\n",
       "      <th>fixed acidity</th>\n",
       "      <th>volatile acidity</th>\n",
       "      <th>citric acid</th>\n",
       "      <th>residual sugar</th>\n",
       "      <th>chlorides</th>\n",
       "      <th>free sulfur dioxide</th>\n",
       "      <th>total sulfur dioxide</th>\n",
       "      <th>density</th>\n",
       "      <th>pH</th>\n",
       "      <th>sulphates</th>\n",
       "      <th>alcohol</th>\n",
       "      <th>quality</th>\n",
       "    </tr>\n",
       "  </thead>\n",
       "  <tbody>\n",
       "    <tr>\n",
       "      <th>count</th>\n",
       "      <td>1599.000000</td>\n",
       "      <td>1599.000000</td>\n",
       "      <td>1599.000000</td>\n",
       "      <td>1599.000000</td>\n",
       "      <td>1599.000000</td>\n",
       "      <td>1599.000000</td>\n",
       "      <td>1599.000000</td>\n",
       "      <td>1599.000000</td>\n",
       "      <td>1599.000000</td>\n",
       "      <td>1599.000000</td>\n",
       "      <td>1599.000000</td>\n",
       "      <td>1599.000000</td>\n",
       "    </tr>\n",
       "    <tr>\n",
       "      <th>mean</th>\n",
       "      <td>8.319637</td>\n",
       "      <td>0.527821</td>\n",
       "      <td>0.270976</td>\n",
       "      <td>2.538806</td>\n",
       "      <td>0.087467</td>\n",
       "      <td>15.874922</td>\n",
       "      <td>46.467792</td>\n",
       "      <td>0.996747</td>\n",
       "      <td>3.311113</td>\n",
       "      <td>0.658149</td>\n",
       "      <td>10.422983</td>\n",
       "      <td>5.636023</td>\n",
       "    </tr>\n",
       "    <tr>\n",
       "      <th>std</th>\n",
       "      <td>1.741096</td>\n",
       "      <td>0.179060</td>\n",
       "      <td>0.194801</td>\n",
       "      <td>1.409928</td>\n",
       "      <td>0.047065</td>\n",
       "      <td>10.460157</td>\n",
       "      <td>32.895324</td>\n",
       "      <td>0.001887</td>\n",
       "      <td>0.154386</td>\n",
       "      <td>0.169507</td>\n",
       "      <td>1.065668</td>\n",
       "      <td>0.807569</td>\n",
       "    </tr>\n",
       "    <tr>\n",
       "      <th>min</th>\n",
       "      <td>4.600000</td>\n",
       "      <td>0.120000</td>\n",
       "      <td>0.000000</td>\n",
       "      <td>0.900000</td>\n",
       "      <td>0.012000</td>\n",
       "      <td>1.000000</td>\n",
       "      <td>6.000000</td>\n",
       "      <td>0.990070</td>\n",
       "      <td>2.740000</td>\n",
       "      <td>0.330000</td>\n",
       "      <td>8.400000</td>\n",
       "      <td>3.000000</td>\n",
       "    </tr>\n",
       "    <tr>\n",
       "      <th>25%</th>\n",
       "      <td>7.100000</td>\n",
       "      <td>0.390000</td>\n",
       "      <td>0.090000</td>\n",
       "      <td>1.900000</td>\n",
       "      <td>0.070000</td>\n",
       "      <td>7.000000</td>\n",
       "      <td>22.000000</td>\n",
       "      <td>0.995600</td>\n",
       "      <td>3.210000</td>\n",
       "      <td>0.550000</td>\n",
       "      <td>9.500000</td>\n",
       "      <td>5.000000</td>\n",
       "    </tr>\n",
       "    <tr>\n",
       "      <th>50%</th>\n",
       "      <td>7.900000</td>\n",
       "      <td>0.520000</td>\n",
       "      <td>0.260000</td>\n",
       "      <td>2.200000</td>\n",
       "      <td>0.079000</td>\n",
       "      <td>14.000000</td>\n",
       "      <td>38.000000</td>\n",
       "      <td>0.996750</td>\n",
       "      <td>3.310000</td>\n",
       "      <td>0.620000</td>\n",
       "      <td>10.200000</td>\n",
       "      <td>6.000000</td>\n",
       "    </tr>\n",
       "    <tr>\n",
       "      <th>75%</th>\n",
       "      <td>9.200000</td>\n",
       "      <td>0.640000</td>\n",
       "      <td>0.420000</td>\n",
       "      <td>2.600000</td>\n",
       "      <td>0.090000</td>\n",
       "      <td>21.000000</td>\n",
       "      <td>62.000000</td>\n",
       "      <td>0.997835</td>\n",
       "      <td>3.400000</td>\n",
       "      <td>0.730000</td>\n",
       "      <td>11.100000</td>\n",
       "      <td>6.000000</td>\n",
       "    </tr>\n",
       "    <tr>\n",
       "      <th>max</th>\n",
       "      <td>15.900000</td>\n",
       "      <td>1.580000</td>\n",
       "      <td>1.000000</td>\n",
       "      <td>15.500000</td>\n",
       "      <td>0.611000</td>\n",
       "      <td>72.000000</td>\n",
       "      <td>289.000000</td>\n",
       "      <td>1.003690</td>\n",
       "      <td>4.010000</td>\n",
       "      <td>2.000000</td>\n",
       "      <td>14.900000</td>\n",
       "      <td>8.000000</td>\n",
       "    </tr>\n",
       "  </tbody>\n",
       "</table>\n",
       "</div>"
      ]
     },
     "metadata": {
      "application/vnd.databricks.v1+output": {
       "addedWidgets": {},
       "arguments": {},
       "data": "<div>\n<style scoped>\n    .dataframe tbody tr th:only-of-type {\n        vertical-align: middle;\n    }\n\n    .dataframe tbody tr th {\n        vertical-align: top;\n    }\n\n    .dataframe thead th {\n        text-align: right;\n    }\n</style>\n<table border=\"1\" class=\"dataframe\">\n  <thead>\n    <tr style=\"text-align: right;\">\n      <th></th>\n      <th>fixed acidity</th>\n      <th>volatile acidity</th>\n      <th>citric acid</th>\n      <th>residual sugar</th>\n      <th>chlorides</th>\n      <th>free sulfur dioxide</th>\n      <th>total sulfur dioxide</th>\n      <th>density</th>\n      <th>pH</th>\n      <th>sulphates</th>\n      <th>alcohol</th>\n      <th>quality</th>\n    </tr>\n  </thead>\n  <tbody>\n    <tr>\n      <th>count</th>\n      <td>1599.000000</td>\n      <td>1599.000000</td>\n      <td>1599.000000</td>\n      <td>1599.000000</td>\n      <td>1599.000000</td>\n      <td>1599.000000</td>\n      <td>1599.000000</td>\n      <td>1599.000000</td>\n      <td>1599.000000</td>\n      <td>1599.000000</td>\n      <td>1599.000000</td>\n      <td>1599.000000</td>\n    </tr>\n    <tr>\n      <th>mean</th>\n      <td>8.319637</td>\n      <td>0.527821</td>\n      <td>0.270976</td>\n      <td>2.538806</td>\n      <td>0.087467</td>\n      <td>15.874922</td>\n      <td>46.467792</td>\n      <td>0.996747</td>\n      <td>3.311113</td>\n      <td>0.658149</td>\n      <td>10.422983</td>\n      <td>5.636023</td>\n    </tr>\n    <tr>\n      <th>std</th>\n      <td>1.741096</td>\n      <td>0.179060</td>\n      <td>0.194801</td>\n      <td>1.409928</td>\n      <td>0.047065</td>\n      <td>10.460157</td>\n      <td>32.895324</td>\n      <td>0.001887</td>\n      <td>0.154386</td>\n      <td>0.169507</td>\n      <td>1.065668</td>\n      <td>0.807569</td>\n    </tr>\n    <tr>\n      <th>min</th>\n      <td>4.600000</td>\n      <td>0.120000</td>\n      <td>0.000000</td>\n      <td>0.900000</td>\n      <td>0.012000</td>\n      <td>1.000000</td>\n      <td>6.000000</td>\n      <td>0.990070</td>\n      <td>2.740000</td>\n      <td>0.330000</td>\n      <td>8.400000</td>\n      <td>3.000000</td>\n    </tr>\n    <tr>\n      <th>25%</th>\n      <td>7.100000</td>\n      <td>0.390000</td>\n      <td>0.090000</td>\n      <td>1.900000</td>\n      <td>0.070000</td>\n      <td>7.000000</td>\n      <td>22.000000</td>\n      <td>0.995600</td>\n      <td>3.210000</td>\n      <td>0.550000</td>\n      <td>9.500000</td>\n      <td>5.000000</td>\n    </tr>\n    <tr>\n      <th>50%</th>\n      <td>7.900000</td>\n      <td>0.520000</td>\n      <td>0.260000</td>\n      <td>2.200000</td>\n      <td>0.079000</td>\n      <td>14.000000</td>\n      <td>38.000000</td>\n      <td>0.996750</td>\n      <td>3.310000</td>\n      <td>0.620000</td>\n      <td>10.200000</td>\n      <td>6.000000</td>\n    </tr>\n    <tr>\n      <th>75%</th>\n      <td>9.200000</td>\n      <td>0.640000</td>\n      <td>0.420000</td>\n      <td>2.600000</td>\n      <td>0.090000</td>\n      <td>21.000000</td>\n      <td>62.000000</td>\n      <td>0.997835</td>\n      <td>3.400000</td>\n      <td>0.730000</td>\n      <td>11.100000</td>\n      <td>6.000000</td>\n    </tr>\n    <tr>\n      <th>max</th>\n      <td>15.900000</td>\n      <td>1.580000</td>\n      <td>1.000000</td>\n      <td>15.500000</td>\n      <td>0.611000</td>\n      <td>72.000000</td>\n      <td>289.000000</td>\n      <td>1.003690</td>\n      <td>4.010000</td>\n      <td>2.000000</td>\n      <td>14.900000</td>\n      <td>8.000000</td>\n    </tr>\n  </tbody>\n</table>\n</div>",
       "datasetInfos": [],
       "metadata": {},
       "removedWidgets": [],
       "textData": null,
       "type": "htmlSandbox"
      }
     },
     "output_type": "display_data"
    }
   ],
   "source": [
    "data.describe()"
   ]
  },
  {
   "cell_type": "markdown",
   "metadata": {
    "application/vnd.databricks.v1+cell": {
     "cellMetadata": {
      "byteLimit": 2048000,
      "rowLimit": 10000
     },
     "inputWidgets": {},
     "nuid": "4c55af90-fa25-4698-9c1d-03924fc84d03",
     "showTitle": false,
     "title": ""
    }
   },
   "source": [
    "Analizując podstawowe statystyki mojego datasetu o winach, otrzymałem ciekawy obraz danych:\n",
    "\n",
    "*   **Ilość próbek:** W analizie uwzględniłem 1599 próbek wina.\n",
    "*   **Średnie wartości:** Na przykład, średnia jakość wina to około 5.6, a średnia zawartość alkoholu wynosi około 10.4%.\n",
    "*   **Rozkład:** Zauważyłem duże odchylenia standardowe w niektórych parametrach, jak całkowity dwutlenek siarki (total sulfur dioxide), co pokazuje, że dane są dość zróżnicowane.\n",
    "*   **Zakresy:** Parametry takie jak cukier resztkowy (residual sugar) i chlorki (chlorides) mają szeroki zakres wartości, co może świadczyć o różnorodności charakterystyk różnych win.\n",
    "\n",
    "### Krótki wniosek:\n",
    "Dane, które mam, są zróżnicowane i obejmują wiele różnych parametrów. To dobra wiadomość dla mojej analizy. Większość win ma ocenę średniej jakości, co pozwoli mi zbadać, co wpływa na lepsze oceny.\n",
    "\n",
    "### Główne cele mojego projektu:\n",
    "\n",
    "1.  **Ocena jakości modeli:** Chcę sprawdzić, jak dobrze moje modele radzą sobie z przewidywaniem jakości wina, analizując błędy ich predykcji za pomocą standardowych metod testowania.\n",
    "\n",
    "2.  **Analiza ważności poszczególnych czynników:** Zbadam, które właściwości wina mają największy wpływ na jego jakość.\n",
    "\n",
    "3.  **Ranking ważności czynników:** Ustalę, które z tych właściwości są najbardziej istotne w moich modelach, o ile model to umożliwia.\n",
    "\n",
    "4.  **Ocena wpływu ważnych cech:** Sprawdzę, jak zmiana w tych kluczowych właściwościach wpływa na jakość wina i czy ten wpływ jest pozytywny czy negatywny.\n",
    "\n",
    "### Przygotowanie do analizy:\n",
    "\n",
    "W pierwszym kroku importuję niezbędne biblioteki do budowy i oceny modeli regresyjnych oraz do wizualizacji danych. Następnie przygotowuję dane, dzieląc je na zmienne niezależne (X) i zależną (y, czyli jakość wina). Na koniec dzielę dane na zestawy treningowe i testowe, co jest kluczowe dla oceny skuteczności moich modeli.\n"
   ]
  },
  {
   "cell_type": "code",
   "execution_count": 0,
   "metadata": {
    "application/vnd.databricks.v1+cell": {
     "cellMetadata": {
      "byteLimit": 2048000,
      "rowLimit": 10000
     },
     "inputWidgets": {},
     "nuid": "09d00ca8-6019-4668-93f8-a6b981dee52b",
     "showTitle": false,
     "title": ""
    }
   },
   "outputs": [],
   "source": [
    "from sklearn.model_selection import train_test_split, cross_val_score\n",
    "from sklearn.linear_model import LinearRegression, Lasso\n",
    "from sklearn.tree import DecisionTreeRegressor\n",
    "from sklearn.ensemble import RandomForestRegressor\n",
    "from sklearn.metrics import mean_squared_error\n",
    "import matplotlib.pyplot as plt\n",
    "import seaborn as sns\n",
    "\n",
    "\n",
    "X = data.drop('quality', axis=1)\n",
    "y = data['quality']\n",
    "X_train, X_test, y_train, y_test = train_test_split(X, y, test_size=0.25, random_state=42)"
   ]
  },
  {
   "cell_type": "markdown",
   "metadata": {
    "application/vnd.databricks.v1+cell": {
     "cellMetadata": {
      "byteLimit": 2048000,
      "rowLimit": 10000
     },
     "inputWidgets": {},
     "nuid": "6c5a9853-6194-444b-9195-4dee376392d8",
     "showTitle": false,
     "title": ""
    }
   },
   "source": [
    "Konstruuję różne modele regresyjne do analizy danych o winie. Używam regresji liniowej, Lasso z niewielką wartością alpha, drzewa decyzyjnego i lasu losowego z określoną liczbą estymatorów. Każdy model będzie testowany, aby zobaczyć, który najlepiej przewiduje jakość wina."
   ]
  },
  {
   "cell_type": "code",
   "execution_count": 0,
   "metadata": {
    "application/vnd.databricks.v1+cell": {
     "cellMetadata": {
      "byteLimit": 2048000,
      "rowLimit": 10000
     },
     "inputWidgets": {},
     "nuid": "27678b86-7530-4655-a038-585e472e1ae2",
     "showTitle": false,
     "title": ""
    }
   },
   "outputs": [],
   "source": [
    "models = {\n",
    "    'Linear Regression': LinearRegression(),\n",
    "    'Lasso': Lasso(alpha=0.1),\n",
    "    'Decision Tree': DecisionTreeRegressor(random_state=42),\n",
    "    'Random Forest': RandomForestRegressor(n_estimators=100, random_state=42)\n",
    "}"
   ]
  },
  {
   "cell_type": "markdown",
   "metadata": {
    "application/vnd.databricks.v1+cell": {
     "cellMetadata": {
      "byteLimit": 2048000,
      "rowLimit": 10000
     },
     "inputWidgets": {},
     "nuid": "e1993993-740e-4ae3-bc80-aafd946a2377",
     "showTitle": false,
     "title": ""
    }
   },
   "source": [
    "Trenuję każdy z moich modeli na danych treningowych, a następnie przewiduję jakość wina na danych testowych. Obliczam błąd średniokwadratowy (MSE) dla każdego modelu, aby ocenić ich dokładność. Wyniki błędów MSE dla wszystkich modeli są wyświetlane, co pozwala mi porównać ich wydajność."
   ]
  },
  {
   "cell_type": "code",
   "execution_count": 0,
   "metadata": {
    "application/vnd.databricks.v1+cell": {
     "cellMetadata": {
      "byteLimit": 2048000,
      "rowLimit": 10000
     },
     "inputWidgets": {},
     "nuid": "22deea48-8d84-4b5c-a6c6-f900ec2f2e5b",
     "showTitle": false,
     "title": ""
    }
   },
   "outputs": [
    {
     "output_type": "stream",
     "name": "stdout",
     "output_type": "stream",
     "text": [
      "Błąd średniokwadratowy (MSE) dla każdego z modeli:\nLinear Regression: 0.38830173868689194\nLasso: 0.4887291227219495\nDecision Tree: 0.6275\nRandom Forest: 0.30707149999999994\n"
     ]
    }
   ],
   "source": [
    "results = {}\n",
    "for name, model in models.items():\n",
    "    model.fit(X_train, y_train)\n",
    "    predictions = model.predict(X_test)\n",
    "    mse = mean_squared_error(y_test, predictions)\n",
    "    results[name] = mse\n",
    "\n",
    "print(\"Błąd średniokwadratowy (MSE) dla każdego z modeli:\")\n",
    "for name, mse in results.items():\n",
    "    print(f\"{name}: {mse}\")"
   ]
  },
  {
   "cell_type": "markdown",
   "metadata": {
    "application/vnd.databricks.v1+cell": {
     "cellMetadata": {
      "byteLimit": 2048000,
      "rowLimit": 10000
     },
     "inputWidgets": {},
     "nuid": "16fdc856-be30-42fa-8a83-fef5976831bd",
     "showTitle": false,
     "title": ""
    }
   },
   "source": [
    "Podczas analizy błędów średniokwadratowych (MSE) dla różnych modeli w moim projekcie dotyczącym jakości wina, uzyskałem następujące wnioski:\n",
    "\n",
    "- **Las losowy:** Ten model okazał się najskuteczniejszy, osiągając najniższy MSE wynoszący 0.3071. To sugeruje, że las losowy jest najdokładniejszy w przewidywaniu jakości wina.\n",
    "- **Regresja liniowa:** Również zaprezentowała się bardzo dobrze, z MSE na poziomie 0.3883. To wskazuje na stosunkowo wysoką dokładność tego modelu.\n",
    "- **Lasso i Drzewo decyzyjne:** Te modele wykazały wyższe wartości MSE, odpowiednio 0.4887 i 0.6275. Oznacza to, że są mniej dokładne w przewidywaniu jakości wina niż las losowy i regresja liniowa.\n",
    "\n",
    "### Wniosek:\n",
    "Z mojej analizy wynika, że **las losowy** jest najbardziej obiecującym modelem do przewidywania jakości wina w tym zestawie danych. Wydaje się, że ten model najlepiej radzi sobie z rozpoznawaniem i interpretacją złożonych wzorców w danych dotyczących wina."
   ]
  },
  {
   "cell_type": "code",
   "execution_count": 0,
   "metadata": {
    "application/vnd.databricks.v1+cell": {
     "cellMetadata": {
      "byteLimit": 2048000,
      "rowLimit": 10000
     },
     "inputWidgets": {},
     "nuid": "9238d0b5-d787-4e76-8f29-778d46086b7c",
     "showTitle": false,
     "title": ""
    }
   },
   "outputs": [
    {
     "output_type": "display_data",
     "data": {
      "image/png": "[encoded data removed]"
     },
     "metadata": {
      "application/vnd.databricks.v1+output": {
       "addedWidgets": {},
       "arguments": {},
       "data": "data:image/png;base64,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\n",
       "datasetInfos": [],
       "metadata": {},
       "removedWidgets": [],
       "type": "image"
      }
     },
     "output_type": "display_data"
    }
   ],
   "source": [
    "# ocena istotności predyktorów dla modelu Random Forest\n",
    "rf_importances = models['Random Forest'].feature_importances_\n",
    "\n",
    "# ocena charakteru i wielkości wpływu predyktorów dla modelu regresji liniowej\n",
    "lr_coefficients = models['Linear Regression'].coef_\n",
    "\n",
    "# ocena dla modelu Lasso\n",
    "lasso_coefficients = models['Lasso'].coef_\n",
    "\n",
    "# ocena dla modelu Decision Tree\n",
    "dt = models['Decision Tree']\n",
    "dt.fit(X_train, y_train)  # Trenowanie drzewa decyzyjnego na danych treningowych\n",
    "dt_importances = dt.feature_importances_\n",
    "\n",
    "feature_importance_df = pd.DataFrame(index=X.columns)\n",
    "feature_importance_df['Random Forest'] = rf_importances\n",
    "feature_importance_df['Linear Regression'] = lr_coefficients\n",
    "feature_importance_df['Lasso'] = lasso_coefficients\n",
    "feature_importance_df['Decision Tree'] = dt_importances\n",
    "\n",
    "\n",
    "feature_importance_df = pd.DataFrame({\n",
    "    'Random Forest': rf_importances,\n",
    "    'Linear Regression': lr_coefficients,\n",
    "    'Lasso': lasso_coefficients,\n",
    "    'Decision Tree': dt_importances\n",
    "}, index=X.columns)\n",
    "\n",
    "plt.figure(figsize=(20, 10))\n",
    "\n",
    "# Wykres dla Random Forest\n",
    "plt.subplot(2, 2, 1)  # 2 rows, 2 columns, 1st subplot\n",
    "sns.barplot(x=rf_importances, y=X.columns)\n",
    "plt.title(\"Feature Importances - Random Forest\")\n",
    "\n",
    "# Wykres dla Linear Regression\n",
    "plt.subplot(2, 2, 2)  # 2 rows, 2 columns, 2nd subplot\n",
    "sns.barplot(x=lr_coefficients, y=X.columns)\n",
    "plt.title(\"Coefficients - Linear Regression\")\n",
    "\n",
    "# Wykres dla Lasso\n",
    "plt.subplot(2, 2, 3)  # 2 rows, 2 columns, 3rd subplot\n",
    "sns.barplot(x=lasso_coefficients, y=X.columns)\n",
    "plt.title(\"Coefficients - Lasso\")\n",
    "\n",
    "# Wykres dla Decision Tree\n",
    "plt.subplot(2, 2, 4)  # 2 rows, 2 columns, 4th subplot\n",
    "sns.barplot(x=dt_importances, y=X.columns)\n",
    "plt.title(\"Feature Importances - Decision Tree\")\n",
    "\n",
    "plt.tight_layout() \n",
    "plt.show()\n"
   ]
  },
  {
   "cell_type": "markdown",
   "metadata": {
    "application/vnd.databricks.v1+cell": {
     "cellMetadata": {
      "byteLimit": 2048000,
      "rowLimit": 10000
     },
     "inputWidgets": {},
     "nuid": "4994ec77-b479-454c-bb5f-e459e787e30e",
     "showTitle": false,
     "title": ""
    }
   },
   "source": [
    "### **Wnioski z Analizy Ważności Predyktorów w Modelach**\n",
    "\n",
    "Analizując, które zmienne mają największy wpływ na różne modele przewidujące jakość wina, można wyciągnąć następujące wnioski:\n",
    "\n",
    "- **Las Losowy (Random Forest):** Największy wpływ na ten model mają alkohol (alcohol), siarczany (sulphates) i kwasowość lotna (volatile acidity). To pokazuje, że zawartość alkoholu, siarczanów i kwasowości lotnej jest kluczowa dla przewidywania jakości wina.\n",
    "  \n",
    "- **Regresja Liniowa:** Tu największe współczynniki mają gęstość (density), chlorki (chlorides), i kwasowość lotna (volatile acidity), wszystkie z ujemnymi wartościami. Oznacza to, że te czynniki mają znaczący, ale odwrotny wpływ na jakość wina.\n",
    "  \n",
    "- **Lasso:** W tym modelu istotne są alkohol (alcohol) i kwasowość stała (fixed acidity), ale inne zmienne mają współczynnik równy zero, co może sugerować ich mniejszą ważność w tym modelu.\n",
    "  \n",
    "- **Drzewo Decyzyjne:** Podobnie jak w Random Forest, alkohol, siarczany i kwasowość lotna mają duże znaczenie. To potwierdza ich istotność w przewidywaniu jakości wina.\n",
    "\n",
    "### Ogólny Wniosek:\n",
    "Z mojej analizy wynika, że **alkohol** i **siarczany** są najważniejszymi predyktorami w większości modeli. Sugeruje to, że zawartość alkoholu i siarczanów odgrywa kluczową rolę w określaniu jakości wina.\n"
   ]
  },
  {
   "cell_type": "code",
   "execution_count": 0,
   "metadata": {
    "application/vnd.databricks.v1+cell": {
     "cellMetadata": {
      "byteLimit": 2048000,
      "rowLimit": 10000
     },
     "inputWidgets": {},
     "nuid": "7a09ee9a-3f38-4cc9-a63b-cdfb83c2776e",
     "showTitle": false,
     "title": ""
    }
   },
   "outputs": [
    {
     "output_type": "stream",
     "name": "stdout",
     "output_type": "stream",
     "text": [
      "Charakter i wielkość wpływu w modelu Linear Regression:\nfixed acidity: Współczynnik 0.021860031271281152\nvolatile acidity: Współczynnik -1.0086952255614474\ncitric acid: Współczynnik -0.1339041637507751\nresidual sugar: Współczynnik 0.00885944150207578\nchlorides: Współczynnik -1.7555784042946656\nfree sulfur dioxide: Współczynnik 0.005008538942423202\ntotal sulfur dioxide: Współczynnik -0.003654260720896141\ndensity: Współczynnik -16.223647759500604\npH: Współczynnik -0.34393954352878525\nsulphates: Współczynnik 0.8198194246647771\nalcohol: Współczynnik 0.286228187091226\n\nCharakter i wielkość wpływu w modelu Lasso:\nfixed acidity: Współczynnik 0.02214666700161596\nvolatile acidity: Współczynnik -0.0\ncitric acid: Współczynnik 0.0\nresidual sugar: Współczynnik 0.0\nchlorides: Współczynnik -0.0\nfree sulfur dioxide: Współczynnik 0.005981168750013651\ntotal sulfur dioxide: Współczynnik -0.004236579351880069\ndensity: Współczynnik -0.0\npH: Współczynnik -0.0\nsulphates: Współczynnik 0.0\nalcohol: Współczynnik 0.2611284098842483\n"
     ]
    }
   ],
   "source": [
    "# Wyświetlenie charakteru i wielkości wpływu istotnych predyktorów dla modelu regresji liniowej\n",
    "print(\"Charakter i wielkość wpływu w modelu Linear Regression:\")\n",
    "for i, col in enumerate(X.columns):\n",
    "    print(f\"{col}: Współczynnik {lr_coefficients[i]}\")\n",
    "\n",
    "# Wyświetlenie charakteru i wielkości wpływu istotnych predyktorów dla modelu Lasso\n",
    "print(\"\\nCharakter i wielkość wpływu w modelu Lasso:\")\n",
    "for i, col in enumerate(X.columns):\n",
    "    print(f\"{col}: Współczynnik {lasso_coefficients[i]}\")\n"
   ]
  },
  {
   "cell_type": "markdown",
   "metadata": {
    "application/vnd.databricks.v1+cell": {
     "cellMetadata": {
      "byteLimit": 2048000,
      "rowLimit": 10000
     },
     "inputWidgets": {},
     "nuid": "e8e2ae33-afe0-4328-8758-91445732ae20",
     "showTitle": false,
     "title": ""
    }
   },
   "source": [
    "### **Wnioski z Analizy Wpływu Predyktorów w Modelach Regresji Liniowej i Lasso**\n",
    "\n",
    "Analizując, jak poszczególne predyktory wpływają na jakość wina w modelach Regresji Liniowej i Lasso, można wyciągnąć następujące wnioski:\n",
    "\n",
    "### Model Regresji Liniowej:\n",
    "- **Kwasowość stała (fixed acidity):** Ma niewielki pozytywny wpływ.\n",
    "- **Kwasowość lotna (volatile acidity):** Silny negatywny wpływ na jakość wina.\n",
    "- **Kwas cytrynowy (citric acid):** Mały negatywny wpływ.\n",
    "- **Cukier resztkowy (residual sugar):** Bardzo mały pozytywny wpływ.\n",
    "- **Chlorki (chlorides):** Bardzo silny negatywny wpływ.\n",
    "- **Wolny dwutlenek siarki (free sulfur dioxide):** Niewielki pozytywny wpływ.\n",
    "- **Całkowity dwutlenek siarki (total sulfur dioxide):** Niewielki negatywny wpływ.\n",
    "- **Gęstość (density):** Bardzo silny negatywny wpływ.\n",
    "- **pH:** Umiarkowany negatywny wpływ.\n",
    "- **Siarczany (sulphates):** Umiarkowany pozytywny wpływ.\n",
    "- **Alkohol (alcohol):** Pozytywny wpływ na jakość wina.\n",
    "\n",
    "### Model Lasso:\n",
    "- **Kwasowość stała (fixed acidity):** Niewielki pozytywny wpływ.\n",
    "- **Kwasowość lotna (volatile acidity):** Brak wpływu.\n",
    "- **Kwas cytrynowy (citric acid):** Brak wpływu.\n",
    "- **Cukier resztkowy (residual sugar):** Brak wpływu.\n",
    "- **Chlorki (chlorides):** Brak wpływu.\n",
    "- **Wolny dwutlenek siarki (free sulfur dioxide):** Niewielki pozytywny wpływ.\n",
    "- **Całkowity dwutlenek siarki (total sulfur dioxide):** Niewielki negatywny wpływ.\n",
    "- **Gęstość (density):** Brak wpływu.\n",
    "- **pH:** Brak wpływu.\n",
    "- **Siarczany (sulphates):** Brak wpływu.\n",
    "- **Alkohol (alcohol):** Pozytywny wpływ na jakość wina.\n",
    "\n",
    "### Ogólne Wnioski:\n",
    "W modelu Regresji Liniowej większość predyktorów ma wpływ na jakość wina, z silnymi negatywnymi wpływami kwasowości lotnej, chlorków i gęstości. W modelu Lasso, większość predyktorów nie wykazuje wpływu, z wyjątkiem kwasowości stałej, wolnego dwutlenku siarki i alkoholu, które mają pozytywny wpływ.\n"
   ]
  },
  {
   "cell_type": "markdown",
   "metadata": {
    "application/vnd.databricks.v1+cell": {
     "cellMetadata": {
      "byteLimit": 2048000,
      "rowLimit": 10000
     },
     "inputWidgets": {},
     "nuid": "632382d8-8372-4eb1-bf85-89141d9ed605",
     "showTitle": false,
     "title": ""
    }
   },
   "source": [
    "### **Podsumowanie Projektu**\n",
    "\n",
    "Po dokładnej analizie danych i zastosowaniu różnych modeli predykcyjnych, możemy wyciągnąć następujące kluczowe wnioski z mojego projektu dotyczącego jakości wina:\n",
    "\n",
    "1. **Skuteczność Modeli:**\n",
    "   - **Las Losowy (Random Forest):** Okazał się najbardziej dokładnym modelem, wykazując najniższy błąd średniokwadratowy (MSE). Wydaje się być najlepszym wyborem do przewidywania jakości wina w analizowanym zestawie danych.\n",
    "   - **Regresja Liniowa i Lasso:** Te modele również zaprezentowały się dobrze, lecz z nieco wyższymi wartościami MSE w porównaniu do Lasu Losowego.\n",
    "   - **Drzewo Decyzyjne:** Wykazało wyższe wartości MSE, sugerując mniejszą dokładność w przewidywaniu jakości wina niż inne zastosowane modele.\n",
    "\n",
    "2. **Ważność Predyktorów:**\n",
    "   - **Alkohol i Siarczany:** W większości modeli te dwa czynniki okazały się być najbardziej istotne dla przewidywania jakości wina.\n",
    "   - **Kwasowość Lotna:** Ma znaczący wpływ, zwłaszcza w modelu Lasu Losowego i Regresji Liniowej.\n",
    "   - **Inne Czynniki:** Takie jak gęstość, chlorki, i pH, również wykazują wpływ, szczególnie w modelu Regresji Liniowej.\n",
    "\n",
    "3. **Charakter i Wielkość Wpływu w Modelach:**\n",
    "   - W modelu **Regresji Liniowej**, większość predyktorów wykazała wpływ na jakość wina, z których niektóre miały silny wpływ negatywny (np. chlorki, gęstość).\n",
    "   - W modelu **Lasso**, większość predyktorów nie miała znaczącego wpływu, z wyjątkiem alkoholu, kwasowości stałej i wolnego dwutlenku siarki.\n",
    "\n",
    "### Ogólne Wnioski:\n",
    "Projekt ten wykazał, że analiza statystyczna i modelowanie predykcyjne mogą być skutecznie wykorzystane do zrozumienia i przewidywania jakości wina. Kluczowymi czynnikami wpływającymi na jakość wina okazały się zawartość alkoholu, siarczany oraz kwasowość lotna. Różne modele predykcyjne mają różne mocne strony, ale Las Losowy wyróżnia się jako najbardziej obiecujący w kontekście tego zestawu danych. **Podsumowując, zawartość alkoholu wydaje się być najważniejszym pojedynczym czynnikiem wpływającym na jakość wina w badanych modelach.** Wyniki te mogą być pomocne w dalszym badaniu jakości wina i w procesie decyzyjnym dotyczącym produkcji wina.\n"
   ]
  }
 ],
 "metadata": {
  "application/vnd.databricks.v1+notebook": {
   "dashboards": [],
   "language": "python",
   "notebookMetadata": {
    "pythonIndentUnit": 4
   },
   "notebookName": "projekt_statystyka_Emanuel_Lorenc",
   "widgets": {}
  },
  "kernelspec": {
   "display_name": "Python 3",
   "language": "python",
   "name": "python3"
  },
  "language_info": {
   "codemirror_mode": {
    "name": "ipython",
    "version": 3
   },
   "file_extension": ".py",
   "mimetype": "text/x-python",
   "name": "python",
   "nbconvert_exporter": "python",
   "pygments_lexer": "ipython3",
   "version": "3.11.4"
  }
 },
 "nbformat": 4,
 "nbformat_minor": 0
}
